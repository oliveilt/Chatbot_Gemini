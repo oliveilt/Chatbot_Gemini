{
  "nbformat": 4,
  "nbformat_minor": 0,
  "metadata": {
    "colab": {
      "provenance": [],
      "authorship_tag": "INSIRA_SUA_API_KEY",
      "include_colab_link": true
    },
    "kernelspec": {
      "name": "python3",
      "display_name": "Python 3"
    },
    "language_info": {
      "name": "python"
    }
  },
  "cells": [
    {
      "cell_type": "markdown",
      "metadata": {
        "id": "view-in-github",
        "colab_type": "text"
      },
      "source": [
        "<a href=\"https://colab.research.google.com/github/oliveilt/Chatbot_Gemini/blob/main/criar_chatbot.ipynb\" target=\"_parent\"><img src=\"https://colab.research.google.com/assets/colab-badge.svg\" alt=\"Open In Colab\"/></a>"
      ]
    },
    {
      "cell_type": "markdown",
      "source": [
        "Instalando o SDK do Google"
      ],
      "metadata": {
        "id": "AfBvrIbS_NZo"
      }
    },
    {
      "cell_type": "code",
      "execution_count": 1,
      "metadata": {
        "id": "PFFXvEK2-l_q"
      },
      "outputs": [],
      "source": [
        "!pip install -q -U google-generativeai"
      ]
    },
    {
      "cell_type": "code",
      "execution_count": 2,
      "metadata": {
        "id": "HTiaTu6O1LRC"
      },
      "outputs": [],
      "source": [
        "# Import the Python SDK\n",
        "import google.generativeai as genai\n",
        "\n",
        "GOOGLE_API_KEY=\"INSIRA_SUA_API_KEY\"\n",
        "genai.configure(api_key=GOOGLE_API_KEY)"
      ]
    },
    {
      "cell_type": "markdown",
      "source": [
        "Listar os modelos disponíveis"
      ],
      "metadata": {
        "id": "fE3xFJrDAVZa"
      }
    },
    {
      "cell_type": "code",
      "source": [
        "for m in genai.list_models():\n",
        "  if 'generateContent' in m.supported_generation_methods:\n",
        "    print(m.name)"
      ],
      "metadata": {
        "colab": {
          "base_uri": "https://localhost:8080/",
          "height": 139
        },
        "id": "L-wrgD_oBN0O",
        "outputId": "01471fc8-4f30-4aa7-cb7c-06f1fdbc6896"
      },
      "execution_count": 5,
      "outputs": [
        {
          "output_type": "stream",
          "name": "stdout",
          "text": [
            "models/gemini-1.0-pro\n",
            "models/gemini-1.0-pro-001\n",
            "models/gemini-1.0-pro-latest\n",
            "models/gemini-1.0-pro-vision-latest\n",
            "models/gemini-1.5-pro-latest\n",
            "models/gemini-pro\n",
            "models/gemini-pro-vision\n"
          ]
        }
      ]
    },
    {
      "cell_type": "markdown",
      "source": [
        "Configurações de parâmetros de execução"
      ],
      "metadata": {
        "id": "jK9f2cI7N2lQ"
      }
    },
    {
      "cell_type": "code",
      "source": [
        "config_execucao = {\n",
        "    \"candidate_count\": 1,\n",
        "    \"temperature\": 0.5,\n",
        "}"
      ],
      "metadata": {
        "id": "IoZSX_E-N15x"
      },
      "execution_count": 11,
      "outputs": []
    },
    {
      "cell_type": "code",
      "source": [
        "ajustes_seguranca = {\n",
        "    \"HARASSMENT\": \"BLOCK_NONE\",\n",
        "    \"HATE\": \"BLOCK_NONE\",\n",
        "    \"SEXUAL\": \"BLOCK_NONE\",\n",
        "    \"DANGEROUS\": \"BLOCK_NONE\",\n",
        "}"
      ],
      "metadata": {
        "id": "SKRpglUHOvFJ"
      },
      "execution_count": 8,
      "outputs": []
    },
    {
      "cell_type": "markdown",
      "source": [
        "Escolha do modelo (versão)"
      ],
      "metadata": {
        "id": "d9ASL562P_Zz"
      }
    },
    {
      "cell_type": "code",
      "source": [
        "model = genai.GenerativeModel(model_name=\"gemini-1.0-pro\",\n",
        "                              generation_config=config_execucao,\n",
        "                              safety_settings=ajustes_seguranca)\n"
      ],
      "metadata": {
        "id": "AEI_i1ElPyQT"
      },
      "execution_count": 12,
      "outputs": []
    },
    {
      "cell_type": "markdown",
      "source": [
        "Executando texto com o Gemini"
      ],
      "metadata": {
        "id": "F5b3qNoCZK-j"
      }
    },
    {
      "cell_type": "code",
      "source": [
        "response = model.generate_content(\"Estou criando um chatbot usando API KEY do Google Gemini. Me dê sugestões de onde posso utilizar esse chatbot.\")\n",
        "print(response.text)"
      ],
      "metadata": {
        "colab": {
          "base_uri": "https://localhost:8080/",
          "height": 540
        },
        "id": "E7kI3EuUYtTt",
        "outputId": "e3a19660-f731-4f61-fa37-71f0f87f53a1"
      },
      "execution_count": 13,
      "outputs": [
        {
          "output_type": "stream",
          "name": "stdout",
          "text": [
            "**Atendimento ao Cliente**\n",
            "\n",
            "* **Suporte de autoatendimento:** Forneça respostas instantâneas a perguntas frequentes, resolva problemas comuns e direcione os clientes para os recursos adequados.\n",
            "* **Rastreamento de pedidos:** Permita que os clientes rastreiem o status de seus pedidos, façam alterações e recebam atualizações.\n",
            "* **Agendamento de compromissos:** Agende consultas, reservas e compromissos com facilidade, reduzindo o tempo de atendimento telefônico.\n",
            "\n",
            "**Vendas e Marketing**\n",
            "\n",
            "* **Geração de leads:** Capture leads qualificados coletando informações de contato e dados demográficos.\n",
            "* **Qualificação de leads:** Faça perguntas direcionadas para identificar leads promissores e priorizar o acompanhamento.\n",
            "* **Promoções e ofertas:** Promova produtos e serviços, compartilhe códigos de desconto e ofereça suporte a campanhas de marketing.\n",
            "\n",
            "**Suporte Técnico**\n",
            "\n",
            "* **Diagnóstico de problemas:** Ajude os usuários a diagnosticar problemas técnicos, fornecer soluções e orientá-los na resolução.\n",
            "* **Documentação de autoajuda:** Forneça acesso a artigos de suporte, tutoriais e documentação para permitir que os usuários resolvam problemas por conta própria.\n",
            "* **Suporte remoto:** Conecte-se remotamente aos dispositivos dos usuários para resolver problemas técnicos complexos.\n",
            "\n",
            "**Recursos Humanos**\n",
            "\n",
            "* **Recrutamento e seleção:** Automatize o processo de triagem de currículos, agende entrevistas e forneça informações sobre vagas em aberto.\n",
            "* **Treinamento e desenvolvimento:** Forneça acesso a materiais de treinamento, organize sessões de perguntas e respostas e ofereça suporte a programas de desenvolvimento.\n",
            "* **Atendimento ao funcionário:** Responda a perguntas sobre benefícios, políticas da empresa e informações de contato.\n",
            "\n",
            "**Outros Setores**\n",
            "\n",
            "* **Educação:** Forneça suporte a alunos e pais, responda a perguntas sobre currículos, notas e eventos escolares.\n",
            "* **Saúde:** Ofereça informações sobre saúde, agende consultas e forneça suporte a pacientes e familiares.\n",
            "* **Finanças:** Verifique saldos, faça transações e forneça informações sobre produtos e serviços financeiros.\n"
          ]
        }
      ]
    },
    {
      "cell_type": "markdown",
      "source": [
        "Criando um chatbot que armazena o histórico da conversa\n"
      ],
      "metadata": {
        "id": "Imyl6uvpZpdD"
      }
    },
    {
      "cell_type": "code",
      "source": [
        "chat = model.start_chat(history=[])"
      ],
      "metadata": {
        "id": "4mom0hRhZqVv"
      },
      "execution_count": 15,
      "outputs": []
    },
    {
      "cell_type": "markdown",
      "source": [
        "Começa uma conversa com o usuário"
      ],
      "metadata": {
        "id": "4cvlda98fWv9"
      }
    },
    {
      "cell_type": "code",
      "source": [
        "prompt = input(\"Esperando prompt: \")\n",
        "\n",
        "while prompt != \"fim\":\n",
        "  response = chat.send_message(prompt)\n",
        "  print(\"Resposta: \", response.text, \"\\n\")\n",
        "  prompt = input(\"Esperando prompt: \")"
      ],
      "metadata": {
        "colab": {
          "base_uri": "https://localhost:8080/",
          "height": 139
        },
        "id": "F0ltN8BBfbWg",
        "outputId": "85365df2-9c76-4144-9c10-68291766256e"
      },
      "execution_count": 16,
      "outputs": [
        {
          "name": "stdout",
          "output_type": "stream",
          "text": [
            "Esperando prompt: Olá\n",
            "Resposta:  Olá, como posso ajudá-lo hoje? \n",
            "\n",
            "Esperando prompt: Qual o prato típico do Brasil?\n",
            "Resposta:  Feijoada \n",
            "\n",
            "Esperando prompt: fim\n"
          ]
        }
      ]
    },
    {
      "cell_type": "code",
      "source": [
        "chat"
      ],
      "metadata": {
        "colab": {
          "base_uri": "https://localhost:8080/"
        },
        "id": "sy_9lKeDmoPT",
        "outputId": "7d7206d8-40c3-44dc-9672-2de3082058f4"
      },
      "execution_count": 17,
      "outputs": [
        {
          "output_type": "execute_result",
          "data": {
            "text/plain": [
              "ChatSession(\n",
              "    model=genai.GenerativeModel(\n",
              "        model_name='models/gemini-1.0-pro',\n",
              "        generation_config={'candidate_count': 1, 'temperature': 0.5},\n",
              "        safety_settings={<HarmCategory.HARM_CATEGORY_HARASSMENT: 7>: <HarmBlockThreshold.BLOCK_NONE: 4>, <HarmCategory.HARM_CATEGORY_HATE_SPEECH: 8>: <HarmBlockThreshold.BLOCK_NONE: 4>, <HarmCategory.HARM_CATEGORY_SEXUALLY_EXPLICIT: 9>: <HarmBlockThreshold.BLOCK_NONE: 4>, <HarmCategory.HARM_CATEGORY_DANGEROUS_CONTENT: 10>: <HarmBlockThreshold.BLOCK_NONE: 4>},\n",
              "        tools=None,\n",
              "        system_instruction=None,\n",
              "    ),\n",
              "    history=[glm.Content({'parts': [{'text': 'Olá'}], 'role': 'user'}), glm.Content({'parts': [{'text': 'Olá, como po...judá-lo hoje?'}], 'role': 'model'}), glm.Content({'parts': [{'text': 'Qual o prato...co do Brasil?'}], 'role': 'user'}), glm.Content({'parts': [{'text': 'Feijoada'}], 'role': 'model'})]\n",
              ")"
            ]
          },
          "metadata": {},
          "execution_count": 17
        }
      ]
    },
    {
      "cell_type": "code",
      "source": [
        "chat.history"
      ],
      "metadata": {
        "colab": {
          "base_uri": "https://localhost:8080/"
        },
        "id": "ZNZDzJQhmume",
        "outputId": "ee9d0119-e84a-48ce-abbd-ffc3ca0ed9d1"
      },
      "execution_count": 18,
      "outputs": [
        {
          "output_type": "execute_result",
          "data": {
            "text/plain": [
              "[parts {\n",
              "   text: \"Ol\\303\\241\"\n",
              " }\n",
              " role: \"user\",\n",
              " parts {\n",
              "   text: \"Ol\\303\\241, como posso ajud\\303\\241-lo hoje?\"\n",
              " }\n",
              " role: \"model\",\n",
              " parts {\n",
              "   text: \"Qual o prato t\\303\\255pico do Brasil?\"\n",
              " }\n",
              " role: \"user\",\n",
              " parts {\n",
              "   text: \"Feijoada\"\n",
              " }\n",
              " role: \"model\"]"
            ]
          },
          "metadata": {},
          "execution_count": 18
        }
      ]
    },
    {
      "cell_type": "code",
      "source": [
        "#Melhorando a visualização\n",
        "#Código disponível em https://ai.google.dev/tutorials/python_quickstart#import_packages\n",
        "import textwrap\n",
        "from IPython.display import display\n",
        "from IPython.display import Markdown\n",
        "\n",
        "def to_markdown(text):\n",
        "  text = text.replace('•', '  *')\n",
        "  return Markdown(textwrap.indent(text, '> ', predicate=lambda _: True))\n",
        "\n",
        "#Imprimindo o histórico\n",
        "for message in chat.history:\n",
        "  display(to_markdown(f'**{message.role}**: {message.parts[0].text}'))\n",
        "  print('-------------------------------------------')"
      ],
      "metadata": {
        "colab": {
          "base_uri": "https://localhost:8080/",
          "height": 268
        },
        "id": "-W88tgmBm1pz",
        "outputId": "101b7248-6a9e-4db5-c36b-f7cfcf0916bb"
      },
      "execution_count": 19,
      "outputs": [
        {
          "output_type": "display_data",
          "data": {
            "text/plain": [
              "<IPython.core.display.Markdown object>"
            ],
            "text/markdown": "> **user**: Olá"
          },
          "metadata": {}
        },
        {
          "output_type": "stream",
          "name": "stdout",
          "text": [
            "-------------------------------------------\n"
          ]
        },
        {
          "output_type": "display_data",
          "data": {
            "text/plain": [
              "<IPython.core.display.Markdown object>"
            ],
            "text/markdown": "> **model**: Olá, como posso ajudá-lo hoje?"
          },
          "metadata": {}
        },
        {
          "output_type": "stream",
          "name": "stdout",
          "text": [
            "-------------------------------------------\n"
          ]
        },
        {
          "output_type": "display_data",
          "data": {
            "text/plain": [
              "<IPython.core.display.Markdown object>"
            ],
            "text/markdown": "> **user**: Qual o prato típico do Brasil?"
          },
          "metadata": {}
        },
        {
          "output_type": "stream",
          "name": "stdout",
          "text": [
            "-------------------------------------------\n"
          ]
        },
        {
          "output_type": "display_data",
          "data": {
            "text/plain": [
              "<IPython.core.display.Markdown object>"
            ],
            "text/markdown": "> **model**: Feijoada"
          },
          "metadata": {}
        },
        {
          "output_type": "stream",
          "name": "stdout",
          "text": [
            "-------------------------------------------\n"
          ]
        }
      ]
    }
  ]
}
